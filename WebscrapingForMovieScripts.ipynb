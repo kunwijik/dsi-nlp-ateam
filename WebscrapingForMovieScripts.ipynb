{
 "cells": [
  {
   "cell_type": "code",
   "execution_count": null,
   "metadata": {},
   "outputs": [],
   "source": [
    "#Import Libraries\n",
    "import requests  ## HTTP handling\n",
    "import re        ## Regular expression function\n",
    "import os        ## Create directory structures\n",
    "import sys       ## \n",
    "import codecs\n",
    "from bs4 import BeautifulSoup  # HTML parsing\n",
    "from selenium import webdriver #Simulate Browser\n",
    "from datetime import datetime         # Datetime object\n",
    "\n",
    "#CHROME_DRIVER_PATH = \"./chromedriver\"\n",
    "CHROME_DRIVER_PATH = \"chromedriver.exe\"\n",
    "browser = webdriver.Chrome(executable_path=CHROME_DRIVER_PATH)\n",
    "\n",
    "## Author Muhammad Valiallah"
   ]
  },
  {
   "cell_type": "markdown",
   "metadata": {},
   "source": [
    "## Scraping from IMSDB"
   ]
  },
  {
   "cell_type": "code",
   "execution_count": null,
   "metadata": {},
   "outputs": [],
   "source": [
    "#Link to IMSB script library\n",
    "link_IMSDB = 'http://www.imsdb.com/all%20scripts/'\n",
    "# Obtain links for all scripts\n",
    "response_IMSDB = requests.get(link_IMSDB)\n",
    "soup = BeautifulSoup(response_IMSDB.text, 'html.parser')\n",
    "\n",
    "find_tables = soup.findAll('td', valign='top')\n",
    "all_movies = find_tables[2].findAll('a') # Extract 3rd list of tables\n",
    "\n",
    "# Obtain list of movies ( # Movie title,Movie link,file friendly movie title )\n",
    "movies = [(movie_info.string, \\\n",
    "           movie_info[\"href\"],\n",
    "           re.split(\"[,.]\",movie_info.string)[0].replace(' ', '_')) #remove\n",
    "           for movie_info in all_movies]"
   ]
  },
  {
   "cell_type": "markdown",
   "metadata": {},
   "source": [
    "## Create Database and IMSDB table"
   ]
  },
  {
   "cell_type": "code",
   "execution_count": null,
   "metadata": {},
   "outputs": [],
   "source": [
    "import sqlite3\n",
    "conn = sqlite3.connect('scriptanalyser.db')\n",
    "c = conn.cursor()\n",
    "c.execute(\"CREATE TABLE IMSDB (title TEXT,genres TEXT, writer TEXT, script TEXT)\")"
   ]
  },
  {
   "cell_type": "code",
   "execution_count": null,
   "metadata": {},
   "outputs": [],
   "source": [
    "#Create function to insert Movie into Database\n",
    "def extract_script(film, browser):\n",
    "    title, link_to_movie_page, movie_title = film\n",
    "    # Interrogate the page with all the movie information (ratings, writer, genre, link to script)\n",
    "    full_html_link = u'http://www.imsdb.com' + link_to_movie_page\n",
    "    response_script = requests.get(full_html_link)\n",
    "    soup = BeautifulSoup(response_script.text, 'html.parser')\n",
    "\n",
    "    # Get all relevant information (genre, writer, script) from page\n",
    "    list_links = soup.findAll('table', \"script-details\")[0].findAll('a')\n",
    "    genres = []\n",
    "    writer = []\n",
    "    script = ''\n",
    "    for link in list_links:\n",
    "        href = link['href']\n",
    "        if href[0:7]== \"/writer\":\n",
    "            writer.append(link.get_text())\n",
    "        if href[0:7]== \"/genre/\":\n",
    "            genres.append(link.get_text())\n",
    "        if href[0:9]== \"/scripts/\":\n",
    "            script = href\n",
    "\n",
    "    # If the link to the script points to a PDF, skip this movie,\n",
    "\n",
    "    if script == '' or script[-5:] != '.html':\n",
    "            pass\n",
    "    else:\n",
    "\n",
    "        # Parse the webpage which contains the script text\n",
    "        full_script_url =  u'http://www.imsdb.com' + script\n",
    "        browser.get(full_script_url)\n",
    "        page_text = browser.page_source\n",
    "        soup = BeautifulSoup(page_text, 'html.parser')\n",
    "\n",
    "        if len(soup.findAll('td', \"scrtext\"))!=1:\n",
    "            pass\n",
    "\n",
    "            # Normal scraping:\n",
    "        else:            \n",
    "            # Append title to list\n",
    "            print(str(title),str(genres),str(writer))\n",
    "            IMSDB_titles.append(str(title))\n",
    "            text = soup.findAll('td', \"scrtext\")[0].get_text()\n",
    "            # Write the script to database table \n",
    "            c.execute(\"INSERT INTO IMSDB(title, genres, writer, script) values (?,?,?,?)\",\n",
    "            [str(title), str(genres), str(writer), text])\n",
    "            conn.commit()"
   ]
  },
  {
   "cell_type": "markdown",
   "metadata": {},
   "source": [
    "# Iterate through all movie scripts and insert into the database\n"
   ]
  },
  {
   "cell_type": "code",
   "execution_count": null,
   "metadata": {},
   "outputs": [],
   "source": [
    "IMSDB_titles = [] # store titles in a list\n",
    "for i,film in enumerate(movies):\n",
    "    extract_script(film, browser)"
   ]
  },
  {
   "cell_type": "markdown",
   "metadata": {},
   "source": [
    "## Obtain Film IDs from TMDB and import the python wrapper for it"
   ]
  },
  {
   "cell_type": "code",
   "execution_count": null,
   "metadata": {},
   "outputs": [],
   "source": [
    "import tmdbsimple as tmdb\n",
    "## Get an API Key by creating an account on TMDB\n",
    "tmdb.API_KEY = '2d475c1fdd80442d338ca293bcd1'\n",
    "tmdb.language = 'en' # for English movies\n",
    "tmdb.debug = True\n",
    "search = tmdb.Search()\n",
    "\n",
    "\n",
    "#Get all the Movie Ids from TMDB\n",
    "TMDB_titles = []\n",
    "TMDB_ids = []\n",
    "TMDB_popularity = []\n",
    "for movie_name in IMSDB_titles:\n",
    "    response = search.movie(query=movie_name)\n",
    "    #Extract Id, TMDB_TITLE, Popularity \n",
    "    for result in search.results:\n",
    "        TMDB_titles.append(result['title'])\n",
    "        TMDB_ids.append(result['id'])\n",
    "        TMDB_popularity.append(result['popularity'])\n",
    "    "
   ]
  },
  {
   "cell_type": "markdown",
   "metadata": {},
   "source": [
    "## Now that we have film IDs we can obtain the film details"
   ]
  },
  {
   "cell_type": "code",
   "execution_count": null,
   "metadata": {},
   "outputs": [],
   "source": [
    "#Get movie attributes\n",
    "movie_attributes = []\n",
    "for id in TMDB_ids:\n",
    "    try:\n",
    "        #print(id[1])\n",
    "        attribute = tmdb.Movies(id)\n",
    "        response = attribute.info()\n",
    "        response2 = attribute.releases()\n",
    "        Rating = [c['certification'] for c in attribute.countries if c['iso_3166_1'] == 'US']\n",
    "        #print(exec(\"column_attributes\"))\n",
    "        #print(attribute.title)\n",
    "        #movie_attributes.append(column_attributes, Rating[0])\n",
    "        c.execute(\"\"\"INSERT INTO TMDB(\n",
    "                     TMDB_title, budget, runtime, TMDB_genres,vote_average,\n",
    "                     TMDB_release_date, popularity,TMDB_original_title\n",
    "                     ,imdb_id,TMDB_Rating,'TMDB_revenue','TMDB_vote_count','TMDB_id') values (?,?,?,?,?,?,?,?,?,?,?,?,?)\n",
    "                     \"\"\",\n",
    "            [str(attribute.title), str(attribute.budget), str(attribute.runtime),str(attribute.genres), str(attribute.vote_average),\\\n",
    "             str(attribute.release_date), str(attribute.popularity), str(attribute.original_title),\\\n",
    "             str(attribute.imdb_id),str(Rating[0]),str(attribute.revenue), str(attribute.vote_count), str(id) \\\n",
    "            ])\n",
    "        conn.commit()\n",
    "        print(attribute.title, attribute.budget, attribute.runtime, attribute.vote_average, attribute.release_date, attribute.popularity, attribute.original_title, attribute.imdb_id,Rating[0])\n",
    "    except:\n",
    "        print(id)"
   ]
  },
  {
   "cell_type": "markdown",
   "metadata": {},
   "source": [
    "## Join the  IMSDB table with the with the TMDB table and load into pandas dataframe"
   ]
  },
  {
   "cell_type": "code",
   "execution_count": null,
   "metadata": {},
   "outputs": [],
   "source": [
    "query = \"\"\"select  a.title as IMSDB_title, a.genres, a.script,\n",
    "            b.TMDB_title, b.budget, b.runtime, b.TMDB_genres,b.vote_average,\n",
    "                     b.TMDB_release_date, b.popularity,b.TMDB_original_title\n",
    "                     ,b.imdb_id,b.TMDB_Rating,b.TMDB_revenue,b.TMDB_vote_count,b.TMDB_id\n",
    "             from IMSDB a \n",
    "             inner join TMDB b\n",
    "             on (trim(upper(a.title)) = trim(upper(b.TMDB_title)))\n",
    "             \"\"\""
   ]
  },
  {
   "cell_type": "code",
   "execution_count": null,
   "metadata": {},
   "outputs": [],
   "source": [
    "import pandas as pd\n",
    "df = pd.read_sql_query(sql=query, con = conn)\n",
    "df.head()"
   ]
  },
  {
   "cell_type": "markdown",
   "metadata": {},
   "source": [
    "## Scraping Data from Daily Scripts"
   ]
  },
  {
   "cell_type": "code",
   "execution_count": null,
   "metadata": {},
   "outputs": [],
   "source": [
    "#Link to IMSB script library\n",
    "link_daily = 'https://www.dailyscript.com/movie.html'\n",
    "# Obtain links for all scripts\n",
    "response_daily = requests.get(link_daily)\n",
    "soup = BeautifulSoup(response_daily.text, 'html.parser')\n",
    "\n",
    "all_movies = find_tables[0].findAll('a') "
   ]
  },
  {
   "cell_type": "code",
   "execution_count": null,
   "metadata": {},
   "outputs": [],
   "source": [
    "daily_list = []\n",
    "for i,movie in enumerate(all_movies):\n",
    "    #if i % 2 ==0 and :\n",
    "    if ('.txt' in movie[\"href\"]) or ('.html' in movie[\"href\"]) or ('.doc' in movie[\"href\"]) :\n",
    "        #print(i,movie.string,movie[\"href\"],movie)\n",
    "        daily_list.append((movie.string,movie[\"href\"]))\n",
    "        "
   ]
  },
  {
   "cell_type": "markdown",
   "metadata": {},
   "source": [
    "## Repeating process for second page"
   ]
  },
  {
   "cell_type": "code",
   "execution_count": null,
   "metadata": {},
   "outputs": [],
   "source": [
    "#Link to IMSB script library\n",
    "link_daily = 'https://www.dailyscript.com/movie_n-z.html'\n",
    "# Obtain links for all scripts\n",
    "response_daily = requests.get(link_daily)\n",
    "soup = BeautifulSoup(response_daily.text, 'html.parser')\n",
    "find_tables = soup.findAll('td', valign='top',scope=\"col\")\n",
    "all_movies = find_tables[0].findAll('a')\n",
    "for i,movie in enumerate(all_movies):\n",
    "    #if i % 2 ==0 and :\n",
    "    if ('.txt' in movie[\"href\"]) or ('.html' in movie[\"href\"]) or ('.doc' in movie[\"href\"]) :\n",
    "        #print(i,movie.string,movie[\"href\"],movie)\n",
    "        daily_list.append((movie.string,movie[\"href\"]))"
   ]
  },
  {
   "cell_type": "markdown",
   "metadata": {},
   "source": [
    "## Loading Data into Table "
   ]
  },
  {
   "cell_type": "code",
   "execution_count": null,
   "metadata": {},
   "outputs": [],
   "source": [
    "c.execute(\"CREATE TABLE DAILYDB (title TEXT, script TEXT)\")        "
   ]
  },
  {
   "cell_type": "code",
   "execution_count": null,
   "metadata": {},
   "outputs": [],
   "source": []
  },
  {
   "cell_type": "code",
   "execution_count": null,
   "metadata": {},
   "outputs": [],
   "source": [
    "for i,film in enumerate(daily_list):\n",
    "    title, link_to_movie_page = film\n",
    "    full_script_url =  u'https://www.dailyscript.com/' + link_to_movie_page\n",
    "    browser.get(full_script_url)\n",
    "    page_text = browser.page_source\n",
    "    soup = BeautifulSoup(page_text, 'html.parser')\n",
    "    text = soup.get_text()\n",
    "    c.execute(\"INSERT INTO DAILYDB(title, script) values (?,?)\",\n",
    "            [str(title), text])\n",
    "    conn.commit()"
   ]
  },
  {
   "cell_type": "code",
   "execution_count": null,
   "metadata": {},
   "outputs": [],
   "source": [
    "## Next we find the Film IDs from TMDB"
   ]
  },
  {
   "cell_type": "code",
   "execution_count": null,
   "metadata": {},
   "outputs": [],
   "source": [
    "dailydb_titles = c.execute('select title from DAILYDB')\n",
    "dailydb_list_titles =[]\n",
    "for i in  dailydb_titles:\n",
    "    print(i[0])\n",
    "    dailydb_list_titles.append(i[0])\n",
    "    \n",
    "TMDB_titles = []\n",
    "TMDB_ids = []\n",
    "TMDB_popularity = []\n",
    "for movie_name in dailydb_list_titles:\n",
    "    response = search.movie(query=movie_name)\n",
    "    #Extract Id, TMDB_TITLE, Popularity \n",
    "    for result in search.results:\n",
    "        TMDB_titles.append(result['title'])\n",
    "        TMDB_ids.append(result['id'])\n",
    "        TMDB_popularity.append(result['popularity'])\n",
    "        \n",
    "# Create table to store Movie attributes in the database\n",
    "columns = ('TMDB_title', 'budget', 'runtime', 'TMDB_genres', 'vote_average','TMDB_release_date','popularity','TMDB_original_title'\n",
    "           ,'imdb_id', 'TMDB_Rating','TMDB_revenue','TMDB_vote_count','TMDB_id')\n",
    "column_list = \", \".join(\"{field} TEXT\".format(field=field) for field in columns)\n",
    "column_list\n",
    "c.execute(\"CREATE TABLE TMDB_daily({column})\".format(column=column_list))        "
   ]
  },
  {
   "cell_type": "code",
   "execution_count": null,
   "metadata": {},
   "outputs": [],
   "source": [
    "#Get movie attributes\n",
    "movie_attributes = []\n",
    "for id in TMDB_ids:\n",
    "    try:\n",
    "        #print(id[1])\n",
    "        attribute = tmdb.Movies(id)\n",
    "        response = attribute.info()\n",
    "        response2 = attribute.releases()\n",
    "        Rating = [c['certification'] for c in attribute.countries if c['iso_3166_1'] == 'US']\n",
    "        #print(exec(\"column_attributes\"))\n",
    "        #print(attribute.title)\n",
    "        #movie_attributes.append(column_attributes, Rating[0])\n",
    "        c.execute(\"\"\"INSERT INTO TMDB_daily(\n",
    "                     TMDB_title, budget, runtime, TMDB_genres,vote_average,\n",
    "                     TMDB_release_date, popularity,TMDB_original_title\n",
    "                     ,imdb_id,TMDB_Rating,'TMDB_revenue','TMDB_vote_count','TMDB_id') values (?,?,?,?,?,?,?,?,?,?,?,?,?)\n",
    "                     \"\"\",\n",
    "            [str(attribute.title), str(attribute.budget), str(attribute.runtime),str(attribute.genres), str(attribute.vote_average),\\\n",
    "             str(attribute.release_date), str(attribute.popularity), str(attribute.original_title),\\\n",
    "             str(attribute.imdb_id),str(Rating[0]),str(attribute.revenue), str(attribute.vote_count), str(id) \\\n",
    "            ])\n",
    "        conn.commit()\n",
    "        print(attribute.title, attribute.budget, attribute.runtime, attribute.vote_average, attribute.release_date, attribute.popularity, attribute.original_title, attribute.imdb_id,Rating[0])\n",
    "    except:\n",
    "        print(id)"
   ]
  },
  {
   "cell_type": "markdown",
   "metadata": {},
   "source": [
    "## Similarly we performed scraping on another site"
   ]
  },
  {
   "cell_type": "code",
   "execution_count": null,
   "metadata": {},
   "outputs": [],
   "source": [
    "link_daily = 'http://www.moviescriptsandscreenplays.com/index.html#top'\n",
    "# Obtain links for all scripts\n",
    "response_daily = requests.get(link_daily)\n",
    "soup = BeautifulSoup(response_daily.text, 'html.parser')\n",
    "find_tables = soup.findAll('td', valign='top')"
   ]
  },
  {
   "cell_type": "code",
   "execution_count": null,
   "metadata": {},
   "outputs": [],
   "source": [
    "def get_movies(link):\n",
    "    response_daily = requests.get(link)\n",
    "    soup = BeautifulSoup(response_daily.text, 'html.parser')\n",
    "    all_movie = soup.findAll('a')\n",
    "    return all_movie\n",
    "\n",
    "all_movies = get_movies('http://www.moviescriptsandscreenplays.com/index.html#top')\\\n",
    "+get_movies('http://www.moviescriptsandscreenplays.com/movie-scripts.html')+get_movies('http://www.moviescriptsandscreenplays.com/movie-scripts2.html')"
   ]
  },
  {
   "cell_type": "markdown",
   "metadata": {},
   "source": [
    "## Extracting only text readable documents"
   ]
  },
  {
   "cell_type": "code",
   "execution_count": null,
   "metadata": {},
   "outputs": [],
   "source": [
    "movie_script_db =[]\n",
    "for j in all_movies:\n",
    "    #print(j)\n",
    "    try:\n",
    "        if ('script'in j['href'] and '.pdf' not in j['href'] and 'http://' in j['href']) and j.string !='host' and j.string !='SimplyScripts':\n",
    "            print(j['href'],j.string)\n",
    "            movie_script_db.append((j.string,j['href']))\n",
    "    except:\n",
    "        pass\n",
    "\n",
    "    \n",
    "c.execute(\"CREATE TABLE MOVIEDB (title TEXT, script TEXT)\")\n",
    "\n",
    "moviedb_titles =[]\n",
    "for i,film in enumerate(movie_script_db):\n",
    "    title, link_to_movie_page = film\n",
    "    full_script_url = link_to_movie_page\n",
    "    print(title,link_to_movie_page)\n",
    "    try:\n",
    "        browser.get(full_script_url)\n",
    "        page_text = browser.page_source\n",
    "        soup = BeautifulSoup(page_text, 'html.parser')\n",
    "        text = soup.get_text()\n",
    "        c.execute(\"INSERT INTO MOVIEDB(title, script) values (?,?)\",\n",
    "            [str(title), text])\n",
    "        moviedb_titles.append(title)\n",
    "        conn.commit()\n",
    "    except:\n",
    "        pass\n",
    "    \n",
    "c.execute(\"CREATE TABLE TMDB_moviedb({column})\".format(column=column_list))\n",
    "\n",
    "\n",
    "#Get movie attributes\n",
    "movie_attributes = []\n",
    "for id in TMDB_ids:\n",
    "    try:\n",
    "        #print(id[1])\n",
    "        attribute = tmdb.Movies(id)\n",
    "        response = attribute.info()\n",
    "        response2 = attribute.releases()\n",
    "        Rating = [c['certification'] for c in attribute.countries if c['iso_3166_1'] == 'US']\n",
    "        #print(exec(\"column_attributes\"))\n",
    "        #print(attribute.title)\n",
    "        #movie_attributes.append(column_attributes, Rating[0])\n",
    "        c.execute(\"\"\"INSERT INTO TMDB_moviedb(\n",
    "                     TMDB_title, budget, runtime, TMDB_genres,vote_average,\n",
    "                     TMDB_release_date, popularity,TMDB_original_title\n",
    "                     ,imdb_id,TMDB_Rating,'TMDB_revenue','TMDB_vote_count','TMDB_id') values (?,?,?,?,?,?,?,?,?,?,?,?,?)\n",
    "                     \"\"\",\n",
    "            [str(attribute.title), str(attribute.budget), str(attribute.runtime),str(attribute.genres), str(attribute.vote_average),\\\n",
    "             str(attribute.release_date), str(attribute.popularity), str(attribute.original_title),\\\n",
    "             str(attribute.imdb_id),str(Rating[0]),str(attribute.revenue), str(attribute.vote_count), str(id) \\\n",
    "            ])\n",
    "        conn.commit()\n",
    "        print(attribute.title, attribute.budget, attribute.runtime, attribute.vote_average, attribute.release_date, attribute.popularity, attribute.original_title, attribute.imdb_id,Rating[0])\n",
    "    except:\n",
    "        print(id)"
   ]
  },
  {
   "cell_type": "markdown",
   "metadata": {},
   "source": [
    "### We then consolidated the scripts from the three tables using SQL and loaded the data into a pandas dataframe"
   ]
  },
  {
   "cell_type": "code",
   "execution_count": null,
   "metadata": {},
   "outputs": [],
   "source": [
    "c.execute(\"\"\"CREATE TABLE TMDB_Combined as \n",
    "  select TMDB_title,budget,runtime,TMDB_genres,vote_average,TMDB_release_date,popularity,TMDB_original_title,imdb_id,TMDB_Rating,TMDB_revenue,TMDB_vote_count,TMDB_id from\n",
    "  TMDB_daily\n",
    "  union\n",
    "  select TMDB_title,budget,runtime,TMDB_genres,vote_average,TMDB_release_date,popularity,TMDB_original_title,imdb_id,TMDB_Rating,TMDB_revenue,TMDB_vote_count,TMDB_id from\n",
    "  TMDB_moviedb\n",
    "  union\n",
    "  select TMDB_title,budget,runtime,TMDB_genres,vote_average,TMDB_release_date,popularity,TMDB_original_title,imdb_id,TMDB_Rating,TMDB_revenue,TMDB_vote_count,TMDB_id from\n",
    "  TMDB\"\"\")\n",
    "print(c.fetchone())"
   ]
  },
  {
   "cell_type": "code",
   "execution_count": null,
   "metadata": {},
   "outputs": [],
   "source": [
    "c.execute(\"\"\"create view SCRIPTS_V as\n",
    "            Select upper(trim(title)) as title,script from IMSDB\n",
    "                union all\n",
    "            Select upper(trim(title)) as title,script from DAILYDB\n",
    "                    union all\n",
    "            Select upper(trim(title)) as title,script from MOVIEDB\"\"\")\n"
   ]
  },
  {
   "cell_type": "code",
   "execution_count": null,
   "metadata": {},
   "outputs": [],
   "source": [
    "c.execute(\"\"\" create table SCRIPTS_COMBINED as select title,\n",
    "            script from (Select title,script\n",
    "                            ,row_number() over (partition by title order by length(script) desc) as rec\n",
    "             from SCRIPTS_V) where rec = 1\"\"\")"
   ]
  },
  {
   "cell_type": "code",
   "execution_count": null,
   "metadata": {},
   "outputs": [],
   "source": [
    "query = \"\"\"select  a.title as IMSDB_title, null as genres, a.script,\n",
    "            b.TMDB_title, b.budget, b.runtime, b.TMDB_genres,b.vote_average,\n",
    "                     b.TMDB_release_date, b.popularity,b.TMDB_original_title\n",
    "                     ,b.imdb_id,b.TMDB_Rating,b.TMDB_revenue,b.TMDB_vote_count,b.TMDB_id\n",
    "             from SCRIPTS_COMBINED a \n",
    "             inner join TMDB_COMBINED b\n",
    "             on (trim(upper(a.title)) = trim(upper(b.TMDB_title)))\n",
    "             \"\"\""
   ]
  },
  {
   "cell_type": "code",
   "execution_count": null,
   "metadata": {},
   "outputs": [],
   "source": [
    "## Finally load data into Pandas dataframe"
   ]
  },
  {
   "cell_type": "code",
   "execution_count": null,
   "metadata": {},
   "outputs": [],
   "source": [
    "df = pd.read_sql_query(sql=query, con = conn)\n",
    "df"
   ]
  }
 ],
 "metadata": {
  "kernelspec": {
   "display_name": "Python 3",
   "language": "python",
   "name": "python3"
  },
  "language_info": {
   "codemirror_mode": {
    "name": "ipython",
    "version": 3
   },
   "file_extension": ".py",
   "mimetype": "text/x-python",
   "name": "python",
   "nbconvert_exporter": "python",
   "pygments_lexer": "ipython3",
   "version": "3.7.6"
  }
 },
 "nbformat": 4,
 "nbformat_minor": 4
}
